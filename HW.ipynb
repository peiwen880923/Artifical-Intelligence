{
  "nbformat": 4,
  "nbformat_minor": 0,
  "metadata": {
    "colab": {
      "provenance": [],
      "collapsed_sections": []
    },
    "kernelspec": {
      "name": "python3",
      "display_name": "Python 3"
    },
    "language_info": {
      "name": "python"
    }
  },
  "cells": [
    {
      "cell_type": "code",
      "source": [
        "import openpyxl\n",
        "wb = openpyxl.load_workbook('hw.xlsx')\n",
        "sheet = wb['工作表1']\n",
        "aa = sheet['B2':'B11']\n",
        "bb = sheet['D2':'D11']\n",
        "cc = sheet['C2':'C11']\n",
        "x1=[]\n",
        "x2=[]\n",
        "y=[]\n",
        "for i in list(aa):\n",
        "  for c in i:\n",
        "    x1.append(c.value)\n",
        "for i in list(bb):\n",
        "  for c in i:\n",
        "    y.append(c.value)\n",
        "for i in list(cc):\n",
        "  for c in i:\n",
        "    x2.append(c.value)\n",
        "print(x1)\n",
        "print(x2)\n",
        "print(y)"
      ],
      "metadata": {
        "colab": {
          "base_uri": "https://localhost:8080/"
        },
        "id": "lR_w9Y6pHjyi",
        "outputId": "a17b99a1-53c1-41e7-893a-f8f6508cb000"
      },
      "execution_count": null,
      "outputs": [
        {
          "output_type": "stream",
          "name": "stdout",
          "text": [
            "[100, 50, 100, 100, 50, 80, 75, 80, 90, 90]\n",
            "[4, 3, 4, 2, 2, 1, 3, 2, 3, 2]\n",
            "[9.3, 4.8, 8.9, 5.8, 4.2, 6.8, 6.6, 5.9, 7.6, 6.1]\n"
          ]
        }
      ]
    },
    {
      "cell_type": "code",
      "source": [
        "from math import e\n",
        "w11,w12,w21,w22,v11,v21=0.5,0.5,0.5,0.5,0.5,0.5\n",
        "h1,h2=0,0\n",
        "xx1,xx2=0,0\n",
        "y1=0.0\n",
        "learning_rate=0.05\n",
        "E=[]\n",
        "temp=[]\n",
        "\n",
        "def g(u):\n",
        "  return 1/(1+e**(-u))\n",
        "def update_weight(a,t):\n",
        "  return learning_rate*a*t\n",
        "def delta(t):\n",
        "  sum=0\n",
        "  for i in list(t):\n",
        "    sum+=i\n",
        "  return sum/len(x1)\n",
        "\n",
        "for i in range(100):\n",
        "  sum2=0.0\n",
        "  ew11,ew12,ew21,ew22,ev11,ev21=[],[],[],[],[],[]\n",
        "  for j in range(len(x1)):\n",
        "    t=y[j]\n",
        "    xx1=x1[j]\n",
        "    xx2=x2[j]\n",
        "    h1=g(w11*xx1+w21*xx2)\n",
        "    h2=g(w12*xx1+w22*xx2)\n",
        "    y1=g(v11*h1+v21*h2)\n",
        "    e1=1/2*((y1-t)**2)\n",
        "    sum2=sum2+e1\n",
        "    #print(\"Error:\",t-y1)\n",
        "    yy1=y1*(1-y1)*(t-y1)\n",
        "    hh1=h1*(1-h1)*v11*yy1\n",
        "    hh2=h2*(1-h2)*v21*yy1\n",
        "\n",
        "    ew11.append(update_weight(hh1,xx1))\n",
        "    ew12.append(update_weight(hh2,xx1))\n",
        "    ew21.append(update_weight(hh1,xx2))\n",
        "    ew22.append(update_weight(hh2,xx2))\n",
        "    ev11.append(update_weight(yy1,h1))\n",
        "    ev21.append(update_weight(yy1,h2))\n",
        "  w11=w11+delta(ew11)\n",
        "  w12=w12+delta(ew12)\n",
        "  w21=w21+delta(ew21)\n",
        "  w22=w22+delta(ew22)\n",
        "  v11=v11+delta(ev11)\n",
        "  v21=v21+delta(ev21)\n",
        "  E.append(sum2/10.0)\n",
        "print(\"loss值:\",E)"
      ],
      "metadata": {
        "colab": {
          "base_uri": "https://localhost:8080/"
        },
        "id": "R_otxA8YYfVS",
        "outputId": "24243430-4141-4db3-cdca-64a8c5d2f0f1"
      },
      "execution_count": null,
      "outputs": [
        {
          "output_type": "stream",
          "name": "stdout",
          "text": [
            "loss值: [18.422236703736825, 18.292928724421532, 18.178224049691277, 18.07661286023691, 17.986584944733988, 17.906715246335864, 17.835707414714253, 17.77240979826754, 17.715814912879075, 17.665049982980396, 17.619363395420482, 17.578109948536756, 17.540736489349754, 17.506768729888524, 17.475799559782434, 17.447478907428255, 17.42150506490013, 17.39761732965158, 17.375589796171962, 17.355226133322418, 17.3363551965055, 17.318827341559178, 17.3025113257595, 17.287291698772123, 17.273066602019956, 17.25974590848787, 17.247249646509683, 17.23550666075481, 17.224453471681564, 17.21403330138708, 17.204195239281024, 17.194893525537537, 17.18608693400545, 17.177738239324082, 17.169813755518117, 17.1622829354286, 17.155118022058723, 17.14829374433718, 17.141787050983485, 17.13557687714104, 17.129643939261822, 17.123970554408956, 17.118540480715076, 17.11333877621359, 17.108351673663087, 17.10356646932495, 17.09897142394147, 17.09455567440487, 17.09030915481424, 17.08622252579315, 17.08228711109066, 17.07849484061648, 17.07483819917102, 17.071310180225318, 17.06790424418695, 17.06461428065798, 17.061434574251674, 17.058359773586826, 17.055384863124115, 17.052505137548287, 17.049716178434597, 17.047013832967583, 17.044394194506786, 17.041853584816856, 17.039388537799557, 17.036995784583162, 17.034672239839953, 17.03241498921647, 17.030221277773304, 17.028088499341884, 17.02601418671511, 17.023996002597308, 17.02203173124634, 17.020119270747337, 17.018256625863437, 17.016441901414396, 17.014673296138348, 17.01294909699641, 17.01126767388364, 17.009627474712996, 17.0080270208424, 17.006464902817225, 17.004939776403535, 17.00345035888907, 17.001995425631485, 17.000573806834762, 16.999184384536516, 16.997826089790436, 16.99649790002929, 16.995198836595247, 16.993927962425325, 16.992684379880792, 16.991467228710256, 16.990275684136925, 16.989108955061415, 16.98796628237205, 16.98684693735529, 16.98575022019943, 16.98467545858537, 16.98362200635848]\n"
          ]
        }
      ]
    },
    {
      "cell_type": "code",
      "source": [
        "import matplotlib.pyplot as plt\n",
        "epoch_count = range(1,101)\n",
        "plt.plot(epoch_count,E, 'b')\n",
        "plt.ylabel('loss')\n",
        "plt.xlabel('epoch')"
      ],
      "metadata": {
        "colab": {
          "base_uri": "https://localhost:8080/",
          "height": 297
        },
        "id": "pFtJmrjAdlaV",
        "outputId": "c549b3bf-fafe-48b5-cb81-1a1eaac6ef45"
      },
      "execution_count": null,
      "outputs": [
        {
          "output_type": "execute_result",
          "data": {
            "text/plain": [
              "Text(0.5, 0, 'epoch')"
            ]
          },
          "metadata": {},
          "execution_count": 44
        },
        {
          "output_type": "display_data",
          "data": {
            "text/plain": [
              "<Figure size 432x288 with 1 Axes>"
            ],
            "image/png": "[encoded data removed]"
          },
          "metadata": {
            "needs_background": "light"
          }
        }
      ]
    }
  ]
}