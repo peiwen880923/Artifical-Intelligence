{
  "nbformat": 4,
  "nbformat_minor": 0,
  "metadata": {
    "colab": {
      "provenance": []
    },
    "kernelspec": {
      "name": "python3",
      "display_name": "Python 3"
    },
    "accelerator": "GPU"
  },
  "cells": [
    {
      "cell_type": "code",
      "metadata": {
        "id": "uWJHFkEk1db6"
      },
      "source": [
        "import numpy as np\n",
        "import pandas as pd\n",
        "from keras.utils import np_utils\n",
        "np.random.seed(10)\n",
        "from keras.datasets import mnist"
      ],
      "execution_count": null,
      "outputs": []
    },
    {
      "cell_type": "code",
      "metadata": {
        "id": "z5DqGE2A1dcE",
        "colab": {
          "base_uri": "https://localhost:8080/"
        },
        "outputId": "985bbc2d-721e-42c6-a480-07c6a1081ed0"
      },
      "source": [
        "(xtrain,ytrain),\\\n",
        "(xtest,ytest)=mnist.load_data()"
      ],
      "execution_count": null,
      "outputs": [
        {
          "output_type": "stream",
          "text": [
            "Downloading data from https://storage.googleapis.com/tensorflow/tf-keras-datasets/mnist.npz\n",
            "11493376/11490434 [==============================] - 0s 0us/step\n"
          ],
          "name": "stdout"
        }
      ]
    },
    {
      "cell_type": "code",
      "metadata": {
        "id": "xKPn89dm1dcI"
      },
      "source": [
        "x_train=xtrain.reshape(xtrain.shape[0],28,28,1).astype('float32')\n",
        "x_test=xtest.reshape(xtest.shape[0],28,28,1).astype('float32')"
      ],
      "execution_count": null,
      "outputs": []
    },
    {
      "cell_type": "code",
      "metadata": {
        "id": "Ljavt73D1dcM"
      },
      "source": [
        "x_train_normal=x_train/255\n",
        "x_test_normal=x_test/255"
      ],
      "execution_count": null,
      "outputs": []
    },
    {
      "cell_type": "code",
      "metadata": {
        "id": "ec03e0xj1dcU"
      },
      "source": [
        "y_train=np_utils.to_categorical(ytrain)\n",
        "y_test=np_utils.to_categorical(ytest)"
      ],
      "execution_count": null,
      "outputs": []
    },
    {
      "cell_type": "code",
      "metadata": {
        "id": "0vvIwH0W1dcZ"
      },
      "source": [
        "from keras.models import Sequential\n",
        "from keras.layers import Dense,Dropout,Conv2D,MaxPooling2D,Conv2DTranspose"
      ],
      "execution_count": null,
      "outputs": []
    },
    {
      "cell_type": "code",
      "metadata": {
        "id": "OKDQxdadUgh-",
        "colab": {
          "base_uri": "https://localhost:8080/",
          "height": 135
        },
        "outputId": "176a90bb-e209-40b1-d7bb-053770eb3b58"
      },
      "source": [
        "model = Sequential()\n",
        "model.add(Conv2D(32, kernel_size=(3, 3), activation='relu', kernel_initializer='he_normal', input_shape=(28,28,1)))\n",
        "model.add(Conv2D(16, kernel_size=(3, 3), activation='relu', kernel_initializer='he_normal'))\n",
        "model.add(Conv2D(8, kernel_size=(3, 3), activation='relu', kernel_initializer='he_normal'))\n",
        "model.add(Conv2DTranspose(8, kernel_size=(3,3), activation='relu', kernel_initializer='he_normal'))\n",
        "model.add(Conv2DTranspose(16, kernel_size=(3,3), activation='relu', kernel_initializer='he_normal'))\n",
        "model.add(Conv2DTranspose(32, kernel_size=(3,3), activation='relu', kernel_initializer='he_normal'))\n",
        "model.add(Conv2D(1, kernel_size=(3, 3), activation='sigmoid', padding='same'))"
      ],
      "execution_count": null,
      "outputs": [
        {
          "output_type": "error",
          "ename": "SyntaxError",
          "evalue": "ignored",
          "traceback": [
            "\u001b[0;36m  File \u001b[0;32m\"<ipython-input-28-9c7b496f1fc4>\"\u001b[0;36m, line \u001b[0;32m6\u001b[0m\n\u001b[0;31m    model.add(Reshape((4, 4, 8)))\u001b[0m\n\u001b[0m        ^\u001b[0m\n\u001b[0;31mSyntaxError\u001b[0m\u001b[0;31m:\u001b[0m invalid syntax\n"
          ]
        }
      ]
    },
    {
      "cell_type": "code",
      "metadata": {
        "id": "QGsOT12Z1ddB",
        "colab": {
          "base_uri": "https://localhost:8080/"
        },
        "outputId": "63bc5c9c-b93e-443e-cbd4-45748fc840c3"
      },
      "source": [
        "model.summary()"
      ],
      "execution_count": null,
      "outputs": [
        {
          "output_type": "stream",
          "text": [
            "Model: \"sequential\"\n",
            "_________________________________________________________________\n",
            "Layer (type)                 Output Shape              Param #   \n",
            "=================================================================\n",
            "conv2d (Conv2D)              (None, 28, 28, 16)        160       \n",
            "_________________________________________________________________\n",
            "max_pooling2d (MaxPooling2D) (None, 14, 14, 16)        0         \n",
            "_________________________________________________________________\n",
            "conv2d_1 (Conv2D)            (None, 14, 14, 8)         1160      \n",
            "_________________________________________________________________\n",
            "max_pooling2d_1 (MaxPooling2 (None, 7, 7, 8)           0         \n",
            "_________________________________________________________________\n",
            "conv2d_2 (Conv2D)            (None, 4, 4, 8)           584       \n",
            "_________________________________________________________________\n",
            "flatten (Flatten)            (None, 128)               0         \n",
            "_________________________________________________________________\n",
            "reshape (Reshape)            (None, 4, 4, 8)           0         \n",
            "_________________________________________________________________\n",
            "conv2d_3 (Conv2D)            (None, 2, 2, 8)           584       \n",
            "_________________________________________________________________\n",
            "conv2d_transpose (Conv2DTran (None, 4, 4, 8)           584       \n",
            "_________________________________________________________________\n",
            "conv2d_transpose_1 (Conv2DTr (None, 6, 6, 16)          1168      \n",
            "_________________________________________________________________\n",
            "conv2d_4 (Conv2D)            (None, 6, 6, 1)           145       \n",
            "=================================================================\n",
            "Total params: 4,385\n",
            "Trainable params: 4,385\n",
            "Non-trainable params: 0\n",
            "_________________________________________________________________\n"
          ],
          "name": "stdout"
        }
      ]
    },
    {
      "cell_type": "code",
      "metadata": {
        "id": "D10udRSrRP-R"
      },
      "source": [
        "model.compile(optimizer='adam', loss='binary_crossentropy')"
      ],
      "execution_count": null,
      "outputs": []
    },
    {
      "cell_type": "code",
      "metadata": {
        "colab": {
          "base_uri": "https://localhost:8080/"
        },
        "id": "ftZy-h_jRWm5",
        "outputId": "39d5610c-03c2-45a4-9211-bdd24b9cc8ae"
      },
      "source": [
        "training=model.fit(x_train_normal, x_train_normal,\n",
        "                epochs=25,\n",
        "                batch_size=1000,\n",
        "                validation_split=0.2)"
      ],
      "execution_count": null,
      "outputs": [
        {
          "output_type": "stream",
          "text": [
            "Epoch 1/25\n",
            " 2/48 [>.............................] - ETA: 2s - loss: 0.6599WARNING:tensorflow:Callbacks method `on_train_batch_end` is slow compared to the batch time (batch time: 0.0100s vs `on_train_batch_end` time: 0.0790s). Check your callbacks.\n",
            "48/48 [==============================] - ETA: 0s - loss: 0.2481WARNING:tensorflow:Callbacks method `on_test_batch_end` is slow compared to the batch time (batch time: 0.0033s vs `on_test_batch_end` time: 0.0276s). Check your callbacks.\n",
            "48/48 [==============================] - 5s 102ms/step - loss: 0.2481 - val_loss: 0.0873\n",
            "Epoch 2/25\n",
            "48/48 [==============================] - 5s 98ms/step - loss: 0.0767 - val_loss: 0.0721\n",
            "Epoch 3/25\n",
            "48/48 [==============================] - 5s 98ms/step - loss: 0.0695 - val_loss: 0.0683\n",
            "Epoch 4/25\n",
            "48/48 [==============================] - 5s 98ms/step - loss: 0.0667 - val_loss: 0.0663\n",
            "Epoch 5/25\n",
            "48/48 [==============================] - 5s 98ms/step - loss: 0.0652 - val_loss: 0.0649\n",
            "Epoch 6/25\n",
            "48/48 [==============================] - 5s 98ms/step - loss: 0.0641 - val_loss: 0.0641\n",
            "Epoch 7/25\n",
            "48/48 [==============================] - 5s 98ms/step - loss: 0.0634 - val_loss: 0.0636\n",
            "Epoch 8/25\n",
            "48/48 [==============================] - 5s 99ms/step - loss: 0.0630 - val_loss: 0.0631\n",
            "Epoch 9/25\n",
            "48/48 [==============================] - 5s 99ms/step - loss: 0.0627 - val_loss: 0.0629\n",
            "Epoch 10/25\n",
            "48/48 [==============================] - 5s 99ms/step - loss: 0.0623 - val_loss: 0.0626\n",
            "Epoch 11/25\n",
            "48/48 [==============================] - 5s 99ms/step - loss: 0.0622 - val_loss: 0.0638\n",
            "Epoch 12/25\n",
            "48/48 [==============================] - 5s 99ms/step - loss: 0.0620 - val_loss: 0.0622\n",
            "Epoch 13/25\n",
            "48/48 [==============================] - 5s 99ms/step - loss: 0.0617 - val_loss: 0.0622\n",
            "Epoch 14/25\n",
            "48/48 [==============================] - 5s 99ms/step - loss: 0.0616 - val_loss: 0.0623\n",
            "Epoch 15/25\n",
            "48/48 [==============================] - 5s 99ms/step - loss: 0.0615 - val_loss: 0.0619\n",
            "Epoch 16/25\n",
            "48/48 [==============================] - 5s 99ms/step - loss: 0.0614 - val_loss: 0.0616\n",
            "Epoch 17/25\n",
            "48/48 [==============================] - 5s 99ms/step - loss: 0.0613 - val_loss: 0.0615\n",
            "Epoch 18/25\n",
            "48/48 [==============================] - 5s 99ms/step - loss: 0.0611 - val_loss: 0.0615\n",
            "Epoch 19/25\n",
            "48/48 [==============================] - 5s 99ms/step - loss: 0.0611 - val_loss: 0.0613\n",
            "Epoch 20/25\n",
            "48/48 [==============================] - 5s 99ms/step - loss: 0.0612 - val_loss: 0.0615\n",
            "Epoch 21/25\n",
            "48/48 [==============================] - 5s 99ms/step - loss: 0.0609 - val_loss: 0.0612\n",
            "Epoch 22/25\n",
            "48/48 [==============================] - 5s 99ms/step - loss: 0.0608 - val_loss: 0.0612\n",
            "Epoch 23/25\n",
            "48/48 [==============================] - 5s 99ms/step - loss: 0.0608 - val_loss: 0.0611\n",
            "Epoch 24/25\n",
            "48/48 [==============================] - 5s 99ms/step - loss: 0.0607 - val_loss: 0.0610\n",
            "Epoch 25/25\n",
            "48/48 [==============================] - 5s 98ms/step - loss: 0.0606 - val_loss: 0.0610\n"
          ],
          "name": "stdout"
        },
        {
          "output_type": "execute_result",
          "data": {
            "text/plain": [
              "<tensorflow.python.keras.callbacks.History at 0x7f07c6b6bf28>"
            ]
          },
          "metadata": {
            "tags": []
          },
          "execution_count": 19
        }
      ]
    },
    {
      "cell_type": "code",
      "metadata": {
        "id": "zY7mhtTy1ddU"
      },
      "source": [
        "import matplotlib.pyplot as plt\n",
        "def plot_image(image):\n",
        "    fig=plt.gcf()\n",
        "    fig.set_size_inches(2,2)\n",
        "    plt.imshow(image,cmap='binary')\n",
        "    plt.show()"
      ],
      "execution_count": null,
      "outputs": []
    },
    {
      "cell_type": "code",
      "metadata": {
        "id": "MboteyuY1ddY"
      },
      "source": [
        "def plot_image_label_prediction(images,labels,prediction,idx,num=10):\n",
        "    fig=plt.gcf()\n",
        "    fig.set_size_inches(12,14)\n",
        "    if num>25:num=25\n",
        "    for i in range(0,num):\n",
        "        ax=plt.subplot(5,5,1+i)\n",
        "        ax.imshow(images[idx],cmap='binary')\n",
        "        title='label='+str(labels[idx])\n",
        "        if len(prediction)>0:\n",
        "            title+=',predict='+str(prediction[idx])\n",
        "        ax.set_title(title,fontsize=10)\n",
        "        ax.set_xticks([])\n",
        "        ax.set_yticks([])\n",
        "        idx+=1\n",
        "    plt.show()    "
      ],
      "execution_count": null,
      "outputs": []
    },
    {
      "cell_type": "code",
      "metadata": {
        "id": "Oy52UX6H1dde"
      },
      "source": [
        "def show_training(training,train,validation):\n",
        "    plt.plot(training.history[train])\n",
        "    plt.plot(training.history[validation])\n",
        "    plt.title('training process')\n",
        "    plt.ylabel('training measure')\n",
        "    plt.xlabel('Epoch')\n",
        "    plt.legend(['training','validation'],loc='upper left')\n",
        "    plt.show()"
      ],
      "execution_count": null,
      "outputs": []
    },
    {
      "cell_type": "code",
      "metadata": {
        "id": "dnyNMH1H1dd5"
      },
      "source": [
        "restruct_imgs = model.predict(x_train_normal)"
      ],
      "execution_count": null,
      "outputs": []
    },
    {
      "cell_type": "code",
      "metadata": {
        "id": "4M96xmaU1dd7",
        "colab": {
          "base_uri": "https://localhost:8080/"
        },
        "outputId": "61a0eb2d-7570-40a5-e66b-a233c4ba197c"
      },
      "source": [
        "restruct_imgs.shape"
      ],
      "execution_count": null,
      "outputs": [
        {
          "output_type": "execute_result",
          "data": {
            "text/plain": [
              "(60000, 28, 28, 1)"
            ]
          },
          "metadata": {
            "tags": []
          },
          "execution_count": 25
        }
      ]
    },
    {
      "cell_type": "code",
      "metadata": {
        "id": "MQnuj9oj1dd9"
      },
      "source": [
        "restruct_imgs=restruct_imgs*255"
      ],
      "execution_count": null,
      "outputs": []
    },
    {
      "cell_type": "code",
      "metadata": {
        "id": "eMV4e5sn1deA",
        "colab": {
          "base_uri": "https://localhost:8080/",
          "height": 321
        },
        "outputId": "c1ccb1dd-5457-4ead-df9f-848c8f6e9424"
      },
      "source": [
        "plot_image_label_prediction(xtrain,ytrain,[],0,10)"
      ],
      "execution_count": null,
      "outputs": [
        {
          "output_type": "display_data",
          "data": {
            "image/png": "[encoded data removed]",
            "text/plain": [
              "<Figure size 864x1008 with 10 Axes>"
            ]
          },
          "metadata": {
            "tags": []
          }
        }
      ]
    },
    {
      "cell_type": "code",
      "metadata": {
        "id": "rrVR6lahmksv"
      },
      "source": [
        "restruct_imgs=restruct_imgs.reshape(60000,28,28)"
      ],
      "execution_count": null,
      "outputs": []
    },
    {
      "cell_type": "code",
      "metadata": {
        "id": "_hcwRXUcmtdi",
        "colab": {
          "base_uri": "https://localhost:8080/"
        },
        "outputId": "e8a77079-8c79-4c55-dff0-4419727903ff"
      },
      "source": [
        "restruct_imgs.shape"
      ],
      "execution_count": null,
      "outputs": [
        {
          "output_type": "execute_result",
          "data": {
            "text/plain": [
              "(60000, 28, 28)"
            ]
          },
          "metadata": {
            "tags": []
          },
          "execution_count": 23
        }
      ]
    },
    {
      "cell_type": "code",
      "metadata": {
        "id": "8YhT3dKb1deD",
        "colab": {
          "base_uri": "https://localhost:8080/",
          "height": 321
        },
        "outputId": "b956637d-4d02-4fb9-c359-057b19052a9a"
      },
      "source": [
        "plot_image_label_prediction(restruct_imgs,ytrain,[],0,10)"
      ],
      "execution_count": null,
      "outputs": [
        {
          "output_type": "display_data",
          "data": {
            "image/png": "[encoded data removed]",
            "text/plain": [
              "<Figure size 864x1008 with 10 Axes>"
            ]
          },
          "metadata": {
            "tags": []
          }
        }
      ]
    },
    {
      "cell_type": "code",
      "metadata": {
        "id": "LHTpB9Fy1deE"
      },
      "source": [],
      "execution_count": null,
      "outputs": []
    },
    {
      "cell_type": "code",
      "metadata": {
        "id": "OJsy-Hzs1deG"
      },
      "source": [],
      "execution_count": null,
      "outputs": []
    },
    {
      "cell_type": "code",
      "metadata": {
        "id": "rdZCP5vy1deI"
      },
      "source": [],
      "execution_count": null,
      "outputs": []
    },
    {
      "cell_type": "code",
      "metadata": {
        "id": "5H5JQUtS1deK"
      },
      "source": [],
      "execution_count": null,
      "outputs": []
    }
  ]
}